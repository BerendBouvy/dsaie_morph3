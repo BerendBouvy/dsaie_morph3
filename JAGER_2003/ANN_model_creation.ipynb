{
 "cells": [
  {
   "cell_type": "markdown",
   "metadata": {},
   "source": [
    "### Model Training\n",
    " This script is used to train the model using a csv file containing the dataset needed for the model."
   ]
  },
  {
   "cell_type": "code",
   "execution_count": 1,
   "metadata": {},
   "outputs": [],
   "source": [
    "import numpy as np\n",
    "import matplotlib.pyplot as plt\n",
    "from ANN import ANN, optimParameters, createDataLoader, normUnitvar\n",
    "import copy\n",
    "import torch\n",
    "import pandas as pd\n",
    "\n",
    "from torch.utils.cpp_extension import CUDA_HOME\n",
    "print(CUDA_HOME)\n",
    "\n",
    "if torch.cuda.is_available():\n",
    "    device = torch.device('cuda')\n",
    "else:\n",
    "    device = torch.device('cpu')\n",
    "print(f\"Using device: {device}\")\n",
    "\n",
    "# # Merge data from different files\n",
    "# from create_data import merge_files\n",
    "# merge_files(\"C:/Users/Woute/Documents/Studie/Master_AES/CEGM2003 Data Science and AI/Morph_3/dsaie_morph3/data/satellite/averages/average_training_r2\")"
   ]
  },
  {
   "cell_type": "code",
   "execution_count": null,
   "metadata": {},
   "outputs": [
    {
     "name": "stdout",
     "output_type": "stream",
     "text": [
      "Epoch: 0, Validation Loss: 17458.841796875\n"
     ]
    }
   ],
   "source": [
    "# Path to dataset\n",
    "path = \"C:/Users/Woute/Documents/Studie/Master_AES/CEGM2003 Data Science and AI/Morph_3/dsaie_morph3/data/satellite/averages/average_training_r2/features_average_1988_training_r2.csv\"\n",
    "\n",
    "# Parameters\n",
    "lambda__values = [0.005] # Regularization parameter\n",
    "imput_dim = 5 # Number of features\n",
    "output_dim = 1 # Number of outputs\n",
    "hidden_layers = 1 # Number of hidden layers\n",
    "hidden_nodes = 5  # Number of nodes in the hidden layer\n",
    "activation_function = 'relu' # Activation function\n",
    "\n",
    "# Load dataset\n",
    "data = pd.read_csv(path)\n",
    "features = ['distance', 'sin_angle', 'cos_angle', 'river_width', 'water_in_range'] \n",
    "target_variable = ['next_year_water']\n",
    "\n",
    "# Normalize the features in the dataset per feature\n",
    "X = torch.tensor(data[features].values, dtype=torch.float32)\n",
    "X_normalizer = normUnitvar(X)\n",
    "\n",
    "# Store the Targets in a tensor\n",
    "targets = torch.tensor(data[target_variable].values, dtype=torch.int8)\n",
    "\n",
    "# Create a new dataset with the normalized features\n",
    "X_norm = X_normalizer.normalize(X)\n",
    "\n",
    "# Create a new dataset with the normalized features and the targets\n",
    "train_loader, val_loader = createDataLoader(torch.utils.data.TensorDataset(X_norm, targets))\n",
    "\n",
    "min_loss = 1e9\n",
    "best_lambda = 0\n",
    "\n",
    "for lambda_val in lambda__values:\n",
    "    #Initialize model\n",
    "    model = ANN(imput_dim, hidden_layers, hidden_nodes, output_dim, activation_function).to(device)\n",
    "    w = model.parameters()\n",
    "\n",
    "    # Train model\n",
    "    model, val_loss = optimParameters(model, w, train_loader, val_loader, lambda_val, n_epochs=2000)\n",
    "\n",
    "    print(f\"Model with lambda = {lambda_val} has a loss of {val_loss}\\n\")\n",
    "\n",
    "    #Save the best model\n",
    "    if val_loss < min_loss:\n",
    "        min_loss = val_loss\n",
    "        best_lambda = lambda_val\n",
    "        best_model = copy.deepcopy(model)\n",
    "\n",
    "print(f\"Best model for lambda={best_lambda} with a loss {min_loss}.\")\n",
    "\n",
    "# Save the best model\n",
    "torch.save(best_model, f\"models/best_model_{hidden_layers}_{hidden_nodes}_{best_lambda}.pt\")\n"
   ]
  },
  {
   "cell_type": "code",
   "execution_count": null,
   "metadata": {},
   "outputs": [],
   "source": []
  }
 ],
 "metadata": {
  "kernelspec": {
   "display_name": "dsaie",
   "language": "python",
   "name": "python3"
  },
  "language_info": {
   "codemirror_mode": {
    "name": "ipython",
    "version": 3
   },
   "file_extension": ".py",
   "mimetype": "text/x-python",
   "name": "python",
   "nbconvert_exporter": "python",
   "pygments_lexer": "ipython3",
   "version": "3.9.17"
  }
 },
 "nbformat": 4,
 "nbformat_minor": 2
}
