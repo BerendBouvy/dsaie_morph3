{
 "cells": [
  {
   "cell_type": "markdown",
   "metadata": {},
   "source": [
    "### Model Training\n",
    " This script is used to train the model using a csv file containing the dataset needed for the model."
   ]
  },
  {
   "cell_type": "code",
   "execution_count": 14,
   "metadata": {},
   "outputs": [],
   "source": [
    "import numpy as np\n",
    "import matplotlib.pyplot as plt\n",
    "from ANN import ANN, optimParameters, createDataLoader, normUnitvar\n",
    "import copy\n",
    "import torch\n",
    "\n",
    "# # Merge data from different files\n",
    "# from create_data import merge_files\n",
    "# merge_files(\"C:/Users/Woute/Documents/Studie/Master_AES/CEGM2003 Data Science and AI/Morph_3/dsaie_morph3/data/satellite/averages/average_training_r2\")"
   ]
  },
  {
   "cell_type": "code",
   "execution_count": 15,
   "metadata": {},
   "outputs": [
    {
     "ename": "TypeError",
     "evalue": "__init__() got an unexpected keyword argument 'batchsize'",
     "output_type": "error",
     "traceback": [
      "\u001b[1;31m---------------------------------------------------------------------------\u001b[0m",
      "\u001b[1;31mTypeError\u001b[0m                                 Traceback (most recent call last)",
      "Cell \u001b[1;32mIn[15], line 26\u001b[0m\n\u001b[0;32m     23\u001b[0m X_norm \u001b[38;5;241m=\u001b[39m X_normalizer\u001b[38;5;241m.\u001b[39mnormalize(X)\n\u001b[0;32m     25\u001b[0m \u001b[38;5;66;03m# Create a new dataset with the normalized features and the targets\u001b[39;00m\n\u001b[1;32m---> 26\u001b[0m train_loader, val_loader \u001b[38;5;241m=\u001b[39m \u001b[43mcreateDataLoader\u001b[49m\u001b[43m(\u001b[49m\u001b[43mtorch\u001b[49m\u001b[38;5;241;43m.\u001b[39;49m\u001b[43mutils\u001b[49m\u001b[38;5;241;43m.\u001b[39;49m\u001b[43mdata\u001b[49m\u001b[38;5;241;43m.\u001b[39;49m\u001b[43mTensorDataset\u001b[49m\u001b[43m(\u001b[49m\u001b[43mX_norm\u001b[49m\u001b[43m,\u001b[49m\u001b[43m \u001b[49m\u001b[43mtargets\u001b[49m\u001b[43m)\u001b[49m\u001b[43m)\u001b[49m\n\u001b[0;32m     28\u001b[0m min_loss \u001b[38;5;241m=\u001b[39m \u001b[38;5;241m1e9\u001b[39m\n\u001b[0;32m     29\u001b[0m best_lambda \u001b[38;5;241m=\u001b[39m \u001b[38;5;241m0\u001b[39m\n",
      "File \u001b[1;32mc:\\Users\\Woute\\Documents\\Studie\\Master_AES\\CEGM2003 Data Science and AI\\Morph_3\\dsaie_morph3\\JAGER_2003\\ANN.py:171\u001b[0m, in \u001b[0;36mcreateDataLoader\u001b[1;34m(dataset, batch_size, generator)\u001b[0m\n\u001b[0;32m    166\u001b[0m     train_set, val_set \u001b[38;5;241m=\u001b[39m torch\u001b[38;5;241m.\u001b[39mutils\u001b[38;5;241m.\u001b[39mdata\u001b[38;5;241m.\u001b[39mrandom_split(\n\u001b[0;32m    167\u001b[0m         dataset, [train_split, val_split]\n\u001b[0;32m    168\u001b[0m     )\n\u001b[0;32m    170\u001b[0m \u001b[38;5;66;03m#Create dataloaders\u001b[39;00m\n\u001b[1;32m--> 171\u001b[0m train_loader \u001b[38;5;241m=\u001b[39m DataLoader(train_set, batchsize\u001b[38;5;241m=\u001b[39mbatch_size, shuffle\u001b[38;5;241m=\u001b[39m\u001b[38;5;28;01mTrue\u001b[39;00m)\n\u001b[0;32m    172\u001b[0m val_loader \u001b[38;5;241m=\u001b[39m DataLoader(val_set, batchsize\u001b[38;5;241m=\u001b[39mbatch_size, shuffle\u001b[38;5;241m=\u001b[39m\u001b[38;5;28;01mFalse\u001b[39;00m)\n\u001b[0;32m    174\u001b[0m \u001b[38;5;28;01mreturn\u001b[39;00m train_loader, val_loader\n",
      "\u001b[1;31mTypeError\u001b[0m: __init__() got an unexpected keyword argument 'batchsize'"
     ]
    }
   ],
   "source": [
    "# Path to dataset\n",
    "path = \"C:/Users/Woute/Documents/Studie/Master_AES/CEGM2003 Data Science and AI/Morph_3/dsaie_morph3/data/satellite/averages/average_training_r2/merged_features.csv\"\n",
    "\n",
    "# Parameters\n",
    "lambda__values = [0.005] # Regularization parameter\n",
    "imput_dim = 5 # Number of features\n",
    "output_dim = 1 # Number of outputs\n",
    "hidden_layers = 1 # Number of hidden layers\n",
    "hidden_nodes = 5  # Number of nodes in the hidden layer\n",
    "activation_function = 'relu' # Activation function\n",
    "\n",
    "# Load dataset\n",
    "data = np.genfromtxt(path, delimiter=',')\n",
    "\n",
    "# Normalize the features in the dataset per feature\n",
    "X = torch.tensor(data[:,:4])\n",
    "X_normalizer = normUnitvar(X)\n",
    "\n",
    "# Store the Targets in a tensor\n",
    "targets = torch.tensor(data[:, 5])\n",
    "\n",
    "# Create a new dataset with the normalized features\n",
    "X_norm = X_normalizer.normalize(X)\n",
    "\n",
    "# Create a new dataset with the normalized features and the targets\n",
    "train_loader, val_loader = createDataLoader(torch.utils.data.TensorDataset(X_norm, targets))\n",
    "\n",
    "min_loss = 1e9\n",
    "best_lambda = 0\n",
    "\n",
    "for lambda_val in lambda__values:\n",
    "    #Initialize model\n",
    "    model = ANN(imput_dim, hidden_layers, hidden_nodes, output_dim, activation_function)\n",
    "    w = torch.nn.utils.parameters_to_vector(model.parameters())\n",
    "\n",
    "    # Train model\n",
    "    model, val_loss = optimParameters(model, w, train_loader, val_loader, lambda_val, n_epochs=2000)\n",
    "\n",
    "    print(f\"Model with lambda = {lambda_val} has a loss of {val_loss}\\n\")\n",
    "\n",
    "    #Save the best model\n",
    "    if val_loss < min_loss:\n",
    "        min_loss = val_loss\n",
    "        best_lambda = lambda_val\n",
    "        best_model = copy.deepcopy(model)\n",
    "\n",
    "print(f\"Best model for lambda={best_lambda} with a loss {min_loss}.\")\n",
    "\n",
    "# Save the best model\n",
    "torch.save(best_model, f\"models/best_model_{hidden_layers}_{hidden_nodes}_{best_lambda}.pt\")\n",
    "\n",
    "    \n",
    "\n"
   ]
  },
  {
   "cell_type": "code",
   "execution_count": null,
   "metadata": {},
   "outputs": [],
   "source": []
  }
 ],
 "metadata": {
  "kernelspec": {
   "display_name": "dsaie",
   "language": "python",
   "name": "python3"
  },
  "language_info": {
   "codemirror_mode": {
    "name": "ipython",
    "version": 3
   },
   "file_extension": ".py",
   "mimetype": "text/x-python",
   "name": "python",
   "nbconvert_exporter": "python",
   "pygments_lexer": "ipython3",
   "version": "3.9.17"
  }
 },
 "nbformat": 4,
 "nbformat_minor": 2
}
