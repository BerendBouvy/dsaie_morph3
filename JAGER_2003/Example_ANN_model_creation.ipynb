{
 "cells": [
  {
   "cell_type": "markdown",
   "metadata": {},
   "source": [
    "### Model Training\n",
    " This script is an example used to train the model using a csv file containing the dataset needed for the model."
   ]
  },
  {
   "cell_type": "code",
   "execution_count": 1,
   "metadata": {},
   "outputs": [
    {
     "name": "stdout",
     "output_type": "stream",
     "text": [
      "None\n",
      "Using device: cpu\n"
     ]
    }
   ],
   "source": [
    "import numpy as np\n",
    "import matplotlib.pyplot as plt\n",
    "from ANN import ANN, optimParameters, createDataLoader, normUnitvar, cross_entropy\n",
    "import copy\n",
    "import torch\n",
    "import pandas as pd\n",
    "import pickle\n",
    "\n",
    "from torch.utils.cpp_extension import CUDA_HOME\n",
    "print(CUDA_HOME)\n",
    "\n",
    "if torch.cuda.is_available():\n",
    "    device = torch.device('cuda')\n",
    "else:\n",
    "    device = torch.device('cpu')\n",
    "print(f\"Using device: {device}\")\n",
    "\n",
    "# # Merge data from different files\n",
    "# from create_data import merge_files\n",
    "# merge_files(\"C:/Users/Woute/Documents/Studie/Master_AES/CEGM2003 Data Science and AI/Morph_3/dsaie_morph3/data/satellite/averages/average_training_r2\")"
   ]
  },
  {
   "cell_type": "code",
   "execution_count": 20,
   "metadata": {},
   "outputs": [
    {
     "name": "stdout",
     "output_type": "stream",
     "text": [
      "Epoch: 0, Validation Loss: 0.6934574246406555\n",
      "Epoch: 20, Validation Loss: 0.6935567855834961\n",
      "Final epoch: 26, loss: 0.693700909614563, best model at epoch 5 with loss 0.693143367767334\n",
      "Model with lambda = 0.005 has a loss of 0.693143367767334\n",
      "\n",
      "Best model for lambda=0.005 with a loss 0.693143367767334.\n"
     ]
    }
   ],
   "source": [
    "# Path to dataset\n",
    "path = \"test_r1_data/undersampled_merged_features.csv\"\n",
    "path2 = \"test_r1_data/merged_features.csv\"\n",
    "\n",
    "# Select year to use as test set\n",
    "test_year = 2020\n",
    "\n",
    "# Parameters\n",
    "lambda__values = [0.005] # Regularization parameter\n",
    "input_dim = 5 # Number of features\n",
    "output_dim = 1 # Number of outputs\n",
    "hidden_layers = 1 # Number of hidden layers\n",
    "hidden_nodes = 5  # Number of nodes in the hidden layer\n",
    "activation_function = 'relu' # Activation function\n",
    "\n",
    "# Load dataset\n",
    "data = pd.read_csv(path)\n",
    "data2 = pd.read_csv(path2)  \n",
    "features = ['distance', 'sin_angle', 'cos_angle', 'river_width', 'water_in_range'] \n",
    "target_variable = ['next_year_water']\n",
    "data_test = data2[data2['year'] == test_year]\n",
    "data_training = data[data['year'] != test_year]\n",
    "\n",
    "# Normalize the features in the dataset per feature\n",
    "X = torch.tensor(data_training[features].values, dtype=torch.float32).to(device)\n",
    "X_normalizer = normUnitvar(X)\n",
    "\n",
    "X_test = torch.tensor(data_test[features].values, dtype=torch.float32).to(device)\n",
    "X_test_norm = X_normalizer.normalize(X_test)\n",
    "\n",
    "# Store the Targets in a tensor\n",
    "targets = torch.tensor(data_training[target_variable].values, dtype=torch.int8).to(device)\n",
    "T_test = torch.tensor(data_test[target_variable].values, dtype=torch.int8).to(device)\n",
    "\n",
    "# Create a new dataset with the normalized features\n",
    "X_norm = X_normalizer.normalize(X)\n",
    "\n",
    "# Create a new dataset with the normalized features and the targets\n",
    "train_loader, val_loader = createDataLoader(torch.utils.data.TensorDataset(X_norm, targets), batch_size=64)\n",
    "\n",
    "min_loss = 1e9\n",
    "best_lambda = 0\n",
    "\n",
    "for lambda_val in lambda__values:\n",
    "    #Initialize model\n",
    "    model = ANN(input_dim, hidden_layers, hidden_nodes, output_dim, activation_function).to(device)\n",
    "    w = model.parameters()\n",
    "\n",
    "    # Train model\n",
    "    model, val_loss, metrics = optimParameters(model, w, train_loader, val_loader, lambda_val, n_epochs=2000)\n",
    "\n",
    "    print(f\"Model with lambda = {lambda_val} has a loss of {val_loss}\\n\")\n",
    "\n",
    "    #Save the best model\n",
    "    if val_loss < min_loss:\n",
    "        min_loss = val_loss\n",
    "        best_lambda = lambda_val\n",
    "        best_model = copy.deepcopy(model)\n",
    "        best_metrics = metrics\n",
    "\n",
    "print(f\"Best model for lambda={best_lambda} with a loss {min_loss}.\")\n",
    "\n",
    "# Save the best model and the metrics\n",
    "# torch.save(best_model, f\"models/best_model_{hidden_layers}_{hidden_nodes}_{best_lambda}.pth\")\n",
    "# np.save(f\"models/metrics_{hidden_layers}_{hidden_nodes}_{best_lambda}.npy\", best_metrics)\n",
    "\n",
    "# Save the training normalizer\n",
    "# with open(\"models/data_normalizer_class.pkl\", 'wb') as output:\n",
    "#     pickle.dump(X_normalizer, output, pickle.HIGHEST_PROTOCOL)"
   ]
  },
  {
   "cell_type": "code",
   "execution_count": 21,
   "metadata": {},
   "outputs": [
    {
     "name": "stdout",
     "output_type": "stream",
     "text": [
      "Test loss for the best model is: 0.6904420256614685\n"
     ]
    }
   ],
   "source": [
    "# Determine the test loss\n",
    "t_hat = best_model(X_test_norm.to(device))\n",
    "test_loss = torch.nn.BCELoss()(t_hat.float(), T_test.float())\n",
    "print(f\"Test loss for the best model is: {test_loss}\")"
   ]
  },
  {
   "cell_type": "code",
   "execution_count": null,
   "metadata": {},
   "outputs": [],
   "source": []
  }
 ],
 "metadata": {
  "kernelspec": {
   "display_name": "dsaie_clone",
   "language": "python",
   "name": "python3"
  },
  "language_info": {
   "codemirror_mode": {
    "name": "ipython",
    "version": 3
   },
   "file_extension": ".py",
   "mimetype": "text/x-python",
   "name": "python",
   "nbconvert_exporter": "python",
   "pygments_lexer": "ipython3",
   "version": "3.9.17"
  }
 },
 "nbformat": 4,
 "nbformat_minor": 2
}
